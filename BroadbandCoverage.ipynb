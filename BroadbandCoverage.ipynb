{
 "cells": [
  {
   "cell_type": "code",
   "execution_count": 3,
   "metadata": {},
   "outputs": [],
   "source": [
    "import pandas as pd\n",
    "import glob"
   ]
  },
  {
   "cell_type": "code",
   "execution_count": 4,
   "metadata": {},
   "outputs": [],
   "source": [
    "broadband_raw = pd.read_csv('data/Broadband/Coverage/CoverageOriginal/202209_fixed_pc_coverage_r02_BD.csv')\n",
    "house_pricing = pd.read_csv('data/HousingPrice/HousingPriceCleaned/profiled_data.csv')\n",
    "\n",
    "matching_postcodes = house_pricing['Post Code'].tolist()\n",
    "matches = []\n",
    "for pcode in broadband_raw['postcode_space']:\n",
    "    if(pcode in matching_postcodes):\n",
    "\n",
    "        matches.append(pcode)\n",
    "filtered_broadband = broadband_raw[broadband_raw['postcode_space'].isin(matches) & broadband_raw['UFBB availability (% premises)'] >0]\n",
    "filtered_broadband_profiled = broadband_raw[['postcode_space','SFBB availability (% premises)','UFBB availability (% premises)']]\n",
    "filtered_broadband_profiled.to_csv('data/Broadband/Coverage/CoverageFiltered/filtered_broadband_data_bd.csv', index=False)"
   ]
  },
  {
   "cell_type": "code",
   "execution_count": 5,
   "metadata": {},
   "outputs": [],
   "source": [
    "broadband_raw = pd.read_csv('data/Broadband/Coverage/CoverageOriginal/202209_fixed_pc_coverage_r02_DL.csv')\n",
    "house_pricing = pd.read_csv('data/HousingPrice/HousingPriceCleaned/profiled_data.csv')\n",
    "\n",
    "matching_postcodes = house_pricing['Post Code'].tolist()\n",
    "matches = []\n",
    "for pcode in broadband_raw['postcode_space']:\n",
    "    if(pcode in matching_postcodes):\n",
    "\n",
    "        matches.append(pcode)\n",
    "filtered_broadband = broadband_raw[broadband_raw['postcode_space'].isin(matches) & broadband_raw['UFBB availability (% premises)'] >0]\n",
    "filtered_broadband_profiled = broadband_raw[['postcode_space','SFBB availability (% premises)','UFBB availability (% premises)']]\n",
    "filtered_broadband_profiled.to_csv('data/Broadband/Coverage/CoverageFiltered/filtered_broadband_data_dl.csv.csv', index=False)"
   ]
  },
  {
   "cell_type": "code",
   "execution_count": 6,
   "metadata": {},
   "outputs": [],
   "source": [
    "broadband_raw = pd.read_csv('data/Broadband/Coverage/CoverageOriginal/202209_fixed_pc_coverage_r02_DN.csv')\n",
    "house_pricing = pd.read_csv('data/HousingPrice/HousingPriceCleaned/profiled_data.csv')\n",
    "\n",
    "matching_postcodes = house_pricing['Post Code'].tolist()\n",
    "matches = []\n",
    "for pcode in broadband_raw['postcode_space']:\n",
    "    if(pcode in matching_postcodes):\n",
    "\n",
    "        matches.append(pcode)\n",
    "filtered_broadband = broadband_raw[broadband_raw['postcode_space'].isin(matches) & broadband_raw['UFBB availability (% premises)'] >0]\n",
    "filtered_broadband_profiled = broadband_raw[['postcode_space','SFBB availability (% premises)','UFBB availability (% premises)']]\n",
    "filtered_broadband_profiled.to_csv('data/Broadband/Coverage/CoverageFiltered/filtered_broadband_data_dn.csv', index=False)"
   ]
  },
  {
   "cell_type": "code",
   "execution_count": 13,
   "metadata": {},
   "outputs": [],
   "source": [
    "broadband_raw = pd.read_csv('data/Broadband/Coverage/CoverageOriginal/202209_fixed_pc_coverage_r02_HD.csv')\n",
    "house_pricing = pd.read_csv('data/HousingPrice/HousingPriceCleaned/profiled_data.csv')\n",
    "\n",
    "matching_postcodes = house_pricing['Post Code'].tolist()\n",
    "matches = []\n",
    "for pcode in broadband_raw['postcode_space']:\n",
    "    if(pcode in matching_postcodes):\n",
    "\n",
    "        matches.append(pcode)\n",
    "filtered_broadband = broadband_raw[broadband_raw['postcode_space'].isin(matches) & broadband_raw['UFBB availability (% premises)'] >0]\n",
    "filtered_broadband_profiled = broadband_raw[['postcode_space','SFBB availability (% premises)','UFBB availability (% premises)']]\n",
    "filtered_broadband_profiled.to_csv('data/Broadband/Coverage/CoverageFiltered/filtered_broadband_data_hd.csv', index=False)"
   ]
  },
  {
   "cell_type": "code",
   "execution_count": 12,
   "metadata": {},
   "outputs": [],
   "source": [
    "broadband_raw = pd.read_csv('data/Broadband/Coverage/CoverageOriginal/202209_fixed_pc_coverage_r02_HG.csv')\n",
    "house_pricing = pd.read_csv('data/HousingPrice/HousingPriceCleaned/profiled_data.csv')\n",
    "\n",
    "matching_postcodes = house_pricing['Post Code'].tolist()\n",
    "matches = []\n",
    "for pcode in broadband_raw['postcode_space']:\n",
    "    if(pcode in matching_postcodes):\n",
    "\n",
    "        matches.append(pcode)\n",
    "filtered_broadband = broadband_raw[broadband_raw['postcode_space'].isin(matches) & broadband_raw['UFBB availability (% premises)'] >0]\n",
    "filtered_broadband_profiled = broadband_raw[['postcode_space','SFBB availability (% premises)','UFBB availability (% premises)']]\n",
    "filtered_broadband_profiled.to_csv('data/Broadband/Coverage/CoverageFiltered/filtered_broadband_data_hg.csv', index=False)"
   ]
  },
  {
   "cell_type": "code",
   "execution_count": 14,
   "metadata": {},
   "outputs": [],
   "source": [
    "broadband_raw = pd.read_csv('data/Broadband/Coverage/CoverageOriginal/202209_fixed_pc_coverage_r02_HU.csv')\n",
    "house_pricing = pd.read_csv('data/HousingPrice/HousingPriceCleaned/profiled_data.csv')\n",
    "\n",
    "matching_postcodes = house_pricing['Post Code'].tolist()\n",
    "matches = []\n",
    "for pcode in broadband_raw['postcode_space']:\n",
    "    if(pcode in matching_postcodes):\n",
    "\n",
    "        matches.append(pcode)\n",
    "filtered_broadband = broadband_raw[broadband_raw['postcode_space'].isin(matches) & broadband_raw['UFBB availability (% premises)'] >0]\n",
    "filtered_broadband_profiled = broadband_raw[['postcode_space','SFBB availability (% premises)','UFBB availability (% premises)']]\n",
    "filtered_broadband_profiled.to_csv('data/Broadband/Coverage/CoverageFiltered/filtered_broadband_data_hu.csv', index=False)"
   ]
  },
  {
   "cell_type": "code",
   "execution_count": 15,
   "metadata": {},
   "outputs": [],
   "source": [
    "broadband_raw = pd.read_csv('data/Broadband/Coverage/CoverageOriginal/202209_fixed_pc_coverage_r02_HX.csv')\n",
    "house_pricing = pd.read_csv('data/HousingPrice/HousingPriceCleaned/profiled_data.csv')\n",
    "\n",
    "matching_postcodes = house_pricing['Post Code'].tolist()\n",
    "matches = []\n",
    "for pcode in broadband_raw['postcode_space']:\n",
    "    if(pcode in matching_postcodes):\n",
    "\n",
    "        matches.append(pcode)\n",
    "filtered_broadband = broadband_raw[broadband_raw['postcode_space'].isin(matches) & broadband_raw['UFBB availability (% premises)'] >0]\n",
    "filtered_broadband_profiled = broadband_raw[['postcode_space','SFBB availability (% premises)','UFBB availability (% premises)']]\n",
    "filtered_broadband_profiled.to_csv('data/Broadband/Coverage/CoverageFiltered/filtered_broadband_data_hx.csv', index=False)"
   ]
  },
  {
   "cell_type": "code",
   "execution_count": 16,
   "metadata": {},
   "outputs": [],
   "source": [
    "broadband_raw = pd.read_csv('data/Broadband/Coverage/CoverageOriginal/202209_fixed_pc_coverage_r02_LA.csv')\n",
    "house_pricing = pd.read_csv('data/HousingPrice/HousingPriceCleaned/profiled_data.csv')\n",
    "\n",
    "matching_postcodes = house_pricing['Post Code'].tolist()\n",
    "matches = []\n",
    "for pcode in broadband_raw['postcode_space']:\n",
    "    if(pcode in matching_postcodes):\n",
    "\n",
    "        matches.append(pcode)\n",
    "filtered_broadband = broadband_raw[broadband_raw['postcode_space'].isin(matches) & broadband_raw['UFBB availability (% premises)'] >0]\n",
    "filtered_broadband_profiled = broadband_raw[['postcode_space','SFBB availability (% premises)','UFBB availability (% premises)']]\n",
    "filtered_broadband_profiled.to_csv('data/Broadband/Coverage/CoverageFiltered/filtered_broadband_data_la.csv', index=False)"
   ]
  },
  {
   "cell_type": "code",
   "execution_count": 17,
   "metadata": {},
   "outputs": [],
   "source": [
    "broadband_raw = pd.read_csv('data/Broadband/Coverage/CoverageOriginal/202209_fixed_pc_coverage_r02_LS.csv')\n",
    "house_pricing = pd.read_csv('data/HousingPrice/HousingPriceCleaned/profiled_data.csv')\n",
    "\n",
    "matching_postcodes = house_pricing['Post Code'].tolist()\n",
    "matches = []\n",
    "for pcode in broadband_raw['postcode_space']:\n",
    "    if(pcode in matching_postcodes):\n",
    "\n",
    "        matches.append(pcode)\n",
    "filtered_broadband = broadband_raw[broadband_raw['postcode_space'].isin(matches) & broadband_raw['UFBB availability (% premises)'] >0]\n",
    "filtered_broadband_profiled = broadband_raw[['postcode_space','SFBB availability (% premises)','UFBB availability (% premises)']]\n",
    "filtered_broadband_profiled.to_csv('data/Broadband/Coverage/CoverageFiltered/filtered_broadband_data_ls.csv', index=False)"
   ]
  },
  {
   "cell_type": "code",
   "execution_count": 18,
   "metadata": {},
   "outputs": [],
   "source": [
    "broadband_raw = pd.read_csv('data/Broadband/Coverage/CoverageOriginal/202209_fixed_pc_coverage_r02_OL.csv')\n",
    "house_pricing = pd.read_csv('data/HousingPrice/HousingPriceCleaned/profiled_data.csv')\n",
    "\n",
    "matching_postcodes = house_pricing['Post Code'].tolist()\n",
    "matches = []\n",
    "for pcode in broadband_raw['postcode_space']:\n",
    "    if(pcode in matching_postcodes):\n",
    "\n",
    "        matches.append(pcode)\n",
    "filtered_broadband = broadband_raw[broadband_raw['postcode_space'].isin(matches) & broadband_raw['UFBB availability (% premises)'] >0]\n",
    "filtered_broadband_profiled = broadband_raw[['postcode_space','SFBB availability (% premises)','UFBB availability (% premises)']]\n",
    "filtered_broadband_profiled.to_csv('data/Broadband/Coverage/CoverageFiltered/filtered_broadband_data_ol.csv', index=False)"
   ]
  },
  {
   "cell_type": "code",
   "execution_count": 19,
   "metadata": {},
   "outputs": [],
   "source": [
    "broadband_raw = pd.read_csv('data/Broadband/Coverage/CoverageOriginal/202209_fixed_pc_coverage_r02_OX.csv')\n",
    "house_pricing = pd.read_csv('data/HousingPrice/HousingPriceCleaned/profiled_data.csv')\n",
    "\n",
    "matching_postcodes = house_pricing['Post Code'].tolist()\n",
    "matches = []\n",
    "for pcode in broadband_raw['postcode_space']:\n",
    "    if(pcode in matching_postcodes):\n",
    "\n",
    "        matches.append(pcode)\n",
    "filtered_broadband = broadband_raw[broadband_raw['postcode_space'].isin(matches) & broadband_raw['UFBB availability (% premises)'] >0]\n",
    "filtered_broadband_profiled = broadband_raw[['postcode_space','SFBB availability (% premises)','UFBB availability (% premises)']]\n",
    "filtered_broadband_profiled.to_csv('data/Broadband/Coverage/CoverageFiltered/filtered_broadband_data_ox.csv', index=False)"
   ]
  },
  {
   "cell_type": "code",
   "execution_count": 20,
   "metadata": {},
   "outputs": [],
   "source": [
    "broadband_raw = pd.read_csv('data/Broadband/Coverage/CoverageOriginal/202209_fixed_pc_coverage_r02_RG.csv')\n",
    "house_pricing = pd.read_csv('data/HousingPrice/HousingPriceCleaned/profiled_data.csv')\n",
    "\n",
    "matching_postcodes = house_pricing['Post Code'].tolist()\n",
    "matches = []\n",
    "for pcode in broadband_raw['postcode_space']:\n",
    "    if(pcode in matching_postcodes):\n",
    "\n",
    "        matches.append(pcode)\n",
    "filtered_broadband = broadband_raw[broadband_raw['postcode_space'].isin(matches) & broadband_raw['UFBB availability (% premises)'] >0]\n",
    "filtered_broadband_profiled = broadband_raw[['postcode_space','SFBB availability (% premises)','UFBB availability (% premises)']]\n",
    "filtered_broadband_profiled.to_csv('data/Broadband/Coverage/CoverageFiltered/filtered_broadband_data_rg.csv', index=False)"
   ]
  },
  {
   "cell_type": "code",
   "execution_count": 21,
   "metadata": {},
   "outputs": [],
   "source": [
    "broadband_raw = pd.read_csv('data/Broadband/Coverage/CoverageOriginal/202209_fixed_pc_coverage_r02_S.csv')\n",
    "house_pricing = pd.read_csv('data/HousingPrice/HousingPriceCleaned/profiled_data.csv')\n",
    "\n",
    "matching_postcodes = house_pricing['Post Code'].tolist()\n",
    "matches = []\n",
    "for pcode in broadband_raw['postcode_space']:\n",
    "    if(pcode in matching_postcodes):\n",
    "\n",
    "        matches.append(pcode)\n",
    "filtered_broadband = broadband_raw[broadband_raw['postcode_space'].isin(matches) & broadband_raw['UFBB availability (% premises)'] > 0]\n",
    "filtered_broadband_profiled = broadband_raw[['postcode_space','SFBB availability (% premises)','UFBB availability (% premises)']]\n",
    "filtered_broadband_profiled.to_csv('data/Broadband/Coverage/CoverageFiltered/filtered_broadband_data_s.csv', index=False)"
   ]
  },
  {
   "cell_type": "code",
   "execution_count": 22,
   "metadata": {},
   "outputs": [],
   "source": [
    "broadband_raw = pd.read_csv('data/Broadband/Coverage/CoverageOriginal/202209_fixed_pc_coverage_r02_SN.csv')\n",
    "house_pricing = pd.read_csv('data/HousingPrice/HousingPriceCleaned/profiled_data.csv')\n",
    "\n",
    "matching_postcodes = house_pricing['Post Code'].tolist()\n",
    "matches = []\n",
    "for pcode in broadband_raw['postcode_space']:\n",
    "    if(pcode in matching_postcodes):\n",
    "\n",
    "        matches.append(pcode)\n",
    "filtered_broadband = broadband_raw[broadband_raw['postcode_space'].isin(matches) & broadband_raw['UFBB availability (% premises)'] >0]\n",
    "filtered_broadband_profiled = broadband_raw[['postcode_space','SFBB availability (% premises)','UFBB availability (% premises)']]\n",
    "filtered_broadband_profiled.to_csv('data/Broadband/Coverage/CoverageFiltered/filtered_broadband_data_sn.csv', index=False)"
   ]
  },
  {
   "cell_type": "code",
   "execution_count": 23,
   "metadata": {},
   "outputs": [],
   "source": [
    "broadband_raw = pd.read_csv('data/Broadband/Coverage/CoverageOriginal/202209_fixed_pc_coverage_r02_TS.csv')\n",
    "house_pricing = pd.read_csv('data/HousingPrice/HousingPriceCleaned/profiled_data.csv')\n",
    "\n",
    "matching_postcodes = house_pricing['Post Code'].tolist()\n",
    "matches = []\n",
    "for pcode in broadband_raw['postcode_space']:\n",
    "    if(pcode in matching_postcodes):\n",
    "\n",
    "        matches.append(pcode)\n",
    "filtered_broadband = broadband_raw[broadband_raw['postcode_space'].isin(matches) & broadband_raw['UFBB availability (% premises)'] >0]\n",
    "filtered_broadband_profiled = broadband_raw[['postcode_space','SFBB availability (% premises)','UFBB availability (% premises)']]\n",
    "filtered_broadband_profiled.to_csv('data/Broadband/Coverage/CoverageFiltered/filtered_broadband_data_ts.csv', index=False)"
   ]
  },
  {
   "cell_type": "code",
   "execution_count": 25,
   "metadata": {},
   "outputs": [],
   "source": [
    "broadband_raw = pd.read_csv('data/Broadband/Coverage/CoverageOriginal/202209_fixed_pc_coverage_r02_YO.csv')\n",
    "house_pricing = pd.read_csv('data/HousingPrice/HousingPriceCleaned/profiled_data.csv')\n",
    "\n",
    "matching_postcodes = house_pricing['Post Code'].tolist()\n",
    "matches = []\n",
    "for pcode in broadband_raw['postcode_space']:\n",
    "    if(pcode in matching_postcodes):\n",
    "\n",
    "        matches.append(pcode)\n",
    "filtered_broadband = broadband_raw[broadband_raw['postcode_space'].isin(matches) & broadband_raw['UFBB availability (% premises)'] >0]\n",
    "filtered_broadband_profiled = broadband_raw[['postcode_space','SFBB availability (% premises)','UFBB availability (% premises)']]\n",
    "filtered_broadband_profiled.to_csv('data/Broadband/Coverage/CoverageFiltered/filtered_broadband_data_yo.csv', index=False)"
   ]
  },
  {
   "cell_type": "code",
   "execution_count": 27,
   "metadata": {},
   "outputs": [],
   "source": [
    "csv_files = glob.glob('data/Broadband/Coverage/CoverageFiltered/*.csv')  \n",
    "dataframes = []\n",
    "for csv_file in csv_files:\n",
    "    df = pd.read_csv(csv_file)\n",
    "    dataframes.append(df)\n",
    "\n",
    "merged_dataframe = pd.concat(dataframes, ignore_index=True)\n",
    "\n",
    "merged_dataframe.to_csv('data/Broadband/BroadbandCleaned/broadband_filtered_coverage_all.csv', index=False)"
   ]
  }
 ],
 "metadata": {
  "kernelspec": {
   "display_name": "Python 3",
   "language": "python",
   "name": "python3"
  },
  "language_info": {
   "codemirror_mode": {
    "name": "ipython",
    "version": 3
   },
   "file_extension": ".py",
   "mimetype": "text/x-python",
   "name": "python",
   "nbconvert_exporter": "python",
   "pygments_lexer": "ipython3",
   "version": "3.10.0"
  },
  "orig_nbformat": 4
 },
 "nbformat": 4,
 "nbformat_minor": 2
}
