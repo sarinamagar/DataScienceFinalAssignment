{
 "cells": [
  {
   "cell_type": "code",
   "execution_count": 27,
   "metadata": {},
   "outputs": [],
   "source": [
    "import pandas as pd"
   ]
  },
  {
   "cell_type": "code",
   "execution_count": 29,
   "metadata": {},
   "outputs": [
    {
     "name": "stderr",
     "output_type": "stream",
     "text": [
      "/var/folders/gx/nb4lbx_x39q8jmdpw0hfl6sh0000gn/T/ipykernel_17632/2421743603.py:1: DtypeWarning: Columns (109,110,112,113,323,324,325,326,327,328,329,330,331,332,338,339,340,341,342,343,344,345,346,347,497,498,499,500,507,508,509,510) have mixed types. Specify dtype option on import or set low_memory=False.\n",
      "  data_raw = pd.read_csv('data/School/england_ks4final2021-2022.csv')\n"
     ]
    }
   ],
   "source": [
    "\n",
    "data_raw = pd.read_csv('data/School/england_ks4final2021-2022.csv')\n",
    "data_cleaned = data_raw.copy()\n",
    "\n",
    "data_cleaned['ATT8SCR'] = pd.to_numeric(data_cleaned['ATT8SCR'], errors='coerce')\n",
    "data_cleaned = data_cleaned.dropna(subset=['ATT8SCR'])\n",
    "\n",
    "data_cleaned = data_cleaned[['PCODE', 'SCHNAME', 'ATT8SCR']]\n",
    "data_cleaned['Year'] = 2022\n",
    "data_cleaned.columns = ['Post Code', 'School', 'Attained','Year']\n",
    "\n",
    "data_cleaned.to_csv('data/School/school_data_2021-2022_cleaned.csv', index=False)\n"
   ]
  },
  {
   "cell_type": "code",
   "execution_count": 30,
   "metadata": {},
   "outputs": [
    {
     "name": "stderr",
     "output_type": "stream",
     "text": [
      "/var/folders/gx/nb4lbx_x39q8jmdpw0hfl6sh0000gn/T/ipykernel_17632/2773883367.py:1: DtypeWarning: Columns (53,55,57) have mixed types. Specify dtype option on import or set low_memory=False.\n",
      "  data_raw = pd.read_csv('data/School/england_ks4final2020-2021.csv')\n"
     ]
    }
   ],
   "source": [
    "data_raw = pd.read_csv('data/School/england_ks4final2020-2021.csv')\n",
    "data_cleaned = data_raw.copy()\n",
    "\n",
    "# Convert 'ATT8SCR' column to numeric and drop rows with non-numeric values\n",
    "data_cleaned['ATT8SCR'] = pd.to_numeric(data_cleaned['ATT8SCR'], errors='coerce')\n",
    "data_cleaned = data_cleaned.dropna(subset=['ATT8SCR'])\n",
    "\n",
    "# Select specific columns and rename them\n",
    "data_cleaned = data_cleaned[['PCODE', 'SCHNAME', 'ATT8SCR']]\n",
    "data_cleaned['Year'] = 2021\n",
    "data_cleaned.columns = ['Post Code', 'School', 'Attained','Year']\n",
    "data_cleaned.columns = ['Post Code', 'School', 'Attained','Year']\n",
    "\n",
    "# Save the cleaned data to a CSV file\n",
    "data_cleaned.to_csv('data/School/school_data_2020-2021_cleaned.csv', index=False)"
   ]
  }
 ],
 "metadata": {
  "kernelspec": {
   "display_name": "Python 3",
   "language": "python",
   "name": "python3"
  },
  "language_info": {
   "codemirror_mode": {
    "name": "ipython",
    "version": 3
   },
   "file_extension": ".py",
   "mimetype": "text/x-python",
   "name": "python",
   "nbconvert_exporter": "python",
   "pygments_lexer": "ipython3",
   "version": "3.10.0"
  },
  "orig_nbformat": 4
 },
 "nbformat": 4,
 "nbformat_minor": 2
}
