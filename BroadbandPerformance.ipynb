{
 "cells": [
  {
   "cell_type": "code",
   "execution_count": 10,
   "metadata": {},
   "outputs": [],
   "source": [
    "import pandas as pd\n",
    "import glob"
   ]
  },
  {
   "cell_type": "code",
   "execution_count": 11,
   "metadata": {},
   "outputs": [],
   "source": [
    "broadband_raw = pd.read_csv('data/Broadband/Performance/PerformanceOriginal/202205_fixed_pc_performance_r02_BD.csv')\n",
    "house_pricing = pd.read_csv('data/HousingPrice/HousingPriceCleaned/profiled_data.csv')\n",
    "\n",
    "matching_postcodes = house_pricing['Post Code'].tolist()\n",
    "matches = []\n",
    "for pcode in broadband_raw['postcode_space']:\n",
    "    if(pcode in matching_postcodes):\n",
    "\n",
    "        matches.append(pcode)\n",
    "filtered_broadband = broadband_raw[broadband_raw['postcode_space'].isin(matches)]\n",
    "filtered_broadband_profiled = broadband_raw[['postcode_space','Median download speed (Mbit/s)','Average download speed (Mbit/s)','Maximum download speed (Mbit/s)']]\n",
    "filtered_broadband_profiled.to_csv('data/Broadband/Performance/PerformanceFiltered/filtered_broadband_data_bd.csv', index=False)"
   ]
  },
  {
   "cell_type": "code",
   "execution_count": null,
   "metadata": {},
   "outputs": [],
   "source": [
    "broadband_raw = pd.read_csv('data/Broadband/Performance/PerformanceOriginal/202205_fixed_pc_performance_r02_DL.csv')\n",
    "house_pricing = pd.read_csv('data/HousingPrice/HousingPriceCleaned/profiled_data.csv')\n",
    "\n",
    "matching_postcodes = house_pricing['Post Code'].tolist()\n",
    "matches = []\n",
    "for pcode in broadband_raw['postcode_space']:\n",
    "    if(pcode in matching_postcodes):\n",
    "\n",
    "        matches.append(pcode)\n",
    "filtered_broadband = broadband_raw[broadband_raw['postcode_space'].isin(matches)]\n",
    "filtered_broadband_profiled = broadband_raw[['postcode_space','Median download speed (Mbit/s)','Average download speed (Mbit/s)','Maximum download speed (Mbit/s)']]\n",
    "filtered_broadband_profiled.to_csv('data/Broadband/Performance/PerformanceFiltered/filtered_broadband_data_dl.csv', index=False)"
   ]
  },
  {
   "cell_type": "code",
   "execution_count": null,
   "metadata": {},
   "outputs": [],
   "source": [
    "broadband_raw = pd.read_csv('data/Broadband/Performance/PerformanceOriginal/202205_fixed_pc_performance_r02_DN.csv')\n",
    "house_pricing = pd.read_csv('data/HousingPrice/HousingPriceCleaned/profiled_data.csv')\n",
    "\n",
    "matching_postcodes = house_pricing['Post Code'].tolist()\n",
    "matches = []\n",
    "for pcode in broadband_raw['postcode_space']:\n",
    "    if(pcode in matching_postcodes):\n",
    "\n",
    "        matches.append(pcode)\n",
    "filtered_broadband = broadband_raw[broadband_raw['postcode_space'].isin(matches)]\n",
    "filtered_broadband_profiled = broadband_raw[['postcode_space','Median download speed (Mbit/s)','Average download speed (Mbit/s)','Maximum download speed (Mbit/s)']]\n",
    "filtered_broadband_profiled.to_csv('data/Broadband/Performance/PerformanceFiltered/filtered_broadband_data_dn.csv', index=False)"
   ]
  },
  {
   "cell_type": "code",
   "execution_count": null,
   "metadata": {},
   "outputs": [],
   "source": [
    "broadband_raw = pd.read_csv('data/Broadband/Performance/PerformanceOriginal/202205_fixed_pc_performance_r02_HD.csv')\n",
    "house_pricing = pd.read_csv('data/HousingPrice/HousingPriceCleaned/profiled_data.csv')\n",
    "\n",
    "matching_postcodes = house_pricing['Post Code'].tolist()\n",
    "matches = []\n",
    "for pcode in broadband_raw['postcode_space']:\n",
    "    if(pcode in matching_postcodes):\n",
    "\n",
    "        matches.append(pcode)\n",
    "filtered_broadband = broadband_raw[broadband_raw['postcode_space'].isin(matches)]\n",
    "filtered_broadband_profiled = broadband_raw[['postcode_space','Median download speed (Mbit/s)','Average download speed (Mbit/s)','Maximum download speed (Mbit/s)']]\n",
    "filtered_broadband_profiled.to_csv('data/Broadband/Performance/PerformanceFiltered/filtered_broadband_data_hd.csv', index=False)"
   ]
  },
  {
   "cell_type": "code",
   "execution_count": null,
   "metadata": {},
   "outputs": [],
   "source": [
    "broadband_raw = pd.read_csv('data/Broadband/Performance/PerformanceOriginal/202205_fixed_pc_performance_r02_HG.csv')\n",
    "house_pricing = pd.read_csv('data/HousingPrice/HousingPriceCleaned/profiled_data.csv')\n",
    "\n",
    "matching_postcodes = house_pricing['Post Code'].tolist()\n",
    "matches = []\n",
    "for pcode in broadband_raw['postcode_space']:\n",
    "    if(pcode in matching_postcodes):\n",
    "\n",
    "        matches.append(pcode)\n",
    "filtered_broadband = broadband_raw[broadband_raw['postcode_space'].isin(matches)]\n",
    "filtered_broadband_profiled = broadband_raw[['postcode_space','Median download speed (Mbit/s)','Average download speed (Mbit/s)','Maximum download speed (Mbit/s)']]\n",
    "filtered_broadband_profiled.to_csv('data/Broadband/Performance/PerformanceFiltered/filtered_broadband_data_hg.csv', index=False)"
   ]
  },
  {
   "cell_type": "code",
   "execution_count": null,
   "metadata": {},
   "outputs": [],
   "source": [
    "broadband_raw = pd.read_csv('data/Broadband/Performance/PerformanceOriginal/202205_fixed_pc_performance_r02_HU.csv')\n",
    "house_pricing = pd.read_csv('data/HousingPrice/HousingPriceCleaned/profiled_data.csv')\n",
    "\n",
    "matching_postcodes = house_pricing['Post Code'].tolist()\n",
    "matches = []\n",
    "for pcode in broadband_raw['postcode_space']:\n",
    "    if(pcode in matching_postcodes):\n",
    "\n",
    "        matches.append(pcode)\n",
    "filtered_broadband = broadband_raw[broadband_raw['postcode_space'].isin(matches)]\n",
    "filtered_broadband_profiled = broadband_raw[['postcode_space','Median download speed (Mbit/s)','Average download speed (Mbit/s)','Maximum download speed (Mbit/s)']]\n",
    "filtered_broadband_profiled.to_csv('data/Broadband/Performance/PerformanceFiltered/filtered_broadband_data_hu.csv', index=False)"
   ]
  },
  {
   "cell_type": "code",
   "execution_count": null,
   "metadata": {},
   "outputs": [],
   "source": [
    "broadband_raw = pd.read_csv('data/Broadband/Performance/PerformanceOriginal/202205_fixed_pc_performance_r02_HX.csv')\n",
    "house_pricing = pd.read_csv('data/HousingPrice/HousingPriceCleaned/profiled_data.csv')\n",
    "\n",
    "matching_postcodes = house_pricing['Post Code'].tolist()\n",
    "matches = []\n",
    "for pcode in broadband_raw['postcode_space']:\n",
    "    if(pcode in matching_postcodes):\n",
    "\n",
    "        matches.append(pcode)\n",
    "filtered_broadband = broadband_raw[broadband_raw['postcode_space'].isin(matches)]\n",
    "filtered_broadband_profiled = broadband_raw[['postcode_space','Median download speed (Mbit/s)','Average download speed (Mbit/s)','Maximum download speed (Mbit/s)']]\n",
    "filtered_broadband_profiled.to_csv('data/Broadband/Performance/PerformanceFiltered/filtered_broadband_data_hx.csv', index=False)"
   ]
  },
  {
   "cell_type": "code",
   "execution_count": null,
   "metadata": {},
   "outputs": [],
   "source": [
    "broadband_raw = pd.read_csv('data/Broadband/Performance/PerformanceOriginal/202205_fixed_pc_performance_r02_LA.csv')\n",
    "house_pricing = pd.read_csv('data/HousingPrice/HousingPriceCleaned/profiled_data.csv')\n",
    "\n",
    "matching_postcodes = house_pricing['Post Code'].tolist()\n",
    "matches = []\n",
    "for pcode in broadband_raw['postcode_space']:\n",
    "    if(pcode in matching_postcodes):\n",
    "\n",
    "        matches.append(pcode)\n",
    "filtered_broadband = broadband_raw[broadband_raw['postcode_space'].isin(matches)]\n",
    "filtered_broadband_profiled = broadband_raw[['postcode_space','Median download speed (Mbit/s)','Average download speed (Mbit/s)','Maximum download speed (Mbit/s)']]\n",
    "filtered_broadband_profiled.to_csv('data/Broadband/Performance/PerformanceFiltered/filtered_broadband_data_la.csv', index=False)"
   ]
  },
  {
   "cell_type": "code",
   "execution_count": null,
   "metadata": {},
   "outputs": [],
   "source": [
    "broadband_raw = pd.read_csv('data/Broadband/Performance/PerformanceOriginal/202205_fixed_pc_performance_r02_LS.csv')\n",
    "house_pricing = pd.read_csv('data/HousingPrice/HousingPriceCleaned/profiled_data.csv')\n",
    "\n",
    "matching_postcodes = house_pricing['Post Code'].tolist()\n",
    "matches = []\n",
    "for pcode in broadband_raw['postcode_space']:\n",
    "    if(pcode in matching_postcodes):\n",
    "\n",
    "        matches.append(pcode)\n",
    "filtered_broadband = broadband_raw[broadband_raw['postcode_space'].isin(matches)]\n",
    "filtered_broadband_profiled = broadband_raw[['postcode_space','Median download speed (Mbit/s)','Average download speed (Mbit/s)','Maximum download speed (Mbit/s)']]\n",
    "filtered_broadband_profiled.to_csv('data/Broadband/Performance/PerformanceFiltered/filtered_broadband_data_ls.csv', index=False)"
   ]
  },
  {
   "cell_type": "code",
   "execution_count": null,
   "metadata": {},
   "outputs": [],
   "source": [
    "broadband_raw = pd.read_csv('data/Broadband/Performance/PerformanceOriginal/202205_fixed_pc_performance_r02_OL.csv')\n",
    "house_pricing = pd.read_csv('data/HousingPrice/HousingPriceCleaned/profiled_data.csv')\n",
    "\n",
    "matching_postcodes = house_pricing['Post Code'].tolist()\n",
    "matches = []\n",
    "for pcode in broadband_raw['postcode_space']:\n",
    "    if(pcode in matching_postcodes):\n",
    "\n",
    "        matches.append(pcode)\n",
    "filtered_broadband = broadband_raw[broadband_raw['postcode_space'].isin(matches)]\n",
    "filtered_broadband_profiled = broadband_raw[['postcode_space','Median download speed (Mbit/s)','Average download speed (Mbit/s)','Maximum download speed (Mbit/s)']]\n",
    "filtered_broadband_profiled.to_csv('data/Broadband/Performance/PerformanceFiltered/filtered_broadband_data_ol.csv', index=False)"
   ]
  },
  {
   "cell_type": "code",
   "execution_count": null,
   "metadata": {},
   "outputs": [],
   "source": [
    "broadband_raw = pd.read_csv('data/Broadband/Performance/PerformanceOriginal/202205_fixed_pc_performance_r02_OX.csv')\n",
    "house_pricing = pd.read_csv('data/HousingPrice/HousingPriceCleaned/profiled_data.csv')\n",
    "\n",
    "matching_postcodes = house_pricing['Post Code'].tolist()\n",
    "matches = []\n",
    "for pcode in broadband_raw['postcode_space']:\n",
    "    if(pcode in matching_postcodes):\n",
    "\n",
    "        matches.append(pcode)\n",
    "filtered_broadband = broadband_raw[broadband_raw['postcode_space'].isin(matches)]\n",
    "filtered_broadband_profiled = broadband_raw[['postcode_space','Median download speed (Mbit/s)','Average download speed (Mbit/s)','Maximum download speed (Mbit/s)']]\n",
    "filtered_broadband_profiled.to_csv('data/Broadband/Performance/PerformanceFiltered/filtered_broadband_data_ox.csv', index=False)"
   ]
  },
  {
   "cell_type": "code",
   "execution_count": null,
   "metadata": {},
   "outputs": [],
   "source": [
    "broadband_raw = pd.read_csv('data/Broadband/Performance/PerformanceOriginal/202205_fixed_pc_performance_r02_RG.csv')\n",
    "house_pricing = pd.read_csv('data/HousingPrice/HousingPriceCleaned/profiled_data.csv')\n",
    "\n",
    "matching_postcodes = house_pricing['Post Code'].tolist()\n",
    "matches = []\n",
    "for pcode in broadband_raw['postcode_space']:\n",
    "    if(pcode in matching_postcodes):\n",
    "\n",
    "        matches.append(pcode)\n",
    "filtered_broadband = broadband_raw[broadband_raw['postcode_space'].isin(matches)]\n",
    "filtered_broadband_profiled = broadband_raw[['postcode_space','Median download speed (Mbit/s)','Average download speed (Mbit/s)','Maximum download speed (Mbit/s)']]\n",
    "filtered_broadband_profiled.to_csv('data/Broadband/Performance/PerformanceFiltered/filtered_broadband_data_rg.csv', index=False)"
   ]
  },
  {
   "cell_type": "code",
   "execution_count": null,
   "metadata": {},
   "outputs": [],
   "source": [
    "broadband_raw = pd.read_csv('data/Broadband/Performance/PerformanceOriginal/202205_fixed_pc_performance_r02_S.csv')\n",
    "house_pricing = pd.read_csv('data/HousingPrice/HousingPriceCleaned/profiled_data.csv')\n",
    "\n",
    "matching_postcodes = house_pricing['Post Code'].tolist()\n",
    "matches = []\n",
    "for pcode in broadband_raw['postcode_space']:\n",
    "    if(pcode in matching_postcodes):\n",
    "\n",
    "        matches.append(pcode)\n",
    "filtered_broadband = broadband_raw[broadband_raw['postcode_space'].isin(matches)]\n",
    "filtered_broadband_profiled = broadband_raw[['postcode_space','Median download speed (Mbit/s)','Average download speed (Mbit/s)','Maximum download speed (Mbit/s)']]\n",
    "filtered_broadband_profiled.to_csv('data/Broadband/Performance/PerformanceFiltered/filtered_broadband_data_s.csv', index=False)"
   ]
  },
  {
   "cell_type": "code",
   "execution_count": null,
   "metadata": {},
   "outputs": [],
   "source": [
    "broadband_raw = pd.read_csv('data/Broadband/Performance/PerformanceOriginal/202205_fixed_pc_performance_r02_SN.csv')\n",
    "house_pricing = pd.read_csv('data/HousingPrice/HousingPriceCleaned/profiled_data.csv')\n",
    "\n",
    "matching_postcodes = house_pricing['Post Code'].tolist()\n",
    "matches = []\n",
    "for pcode in broadband_raw['postcode_space']:\n",
    "    if(pcode in matching_postcodes):\n",
    "\n",
    "        matches.append(pcode)\n",
    "filtered_broadband = broadband_raw[broadband_raw['postcode_space'].isin(matches)]\n",
    "filtered_broadband_profiled = broadband_raw[['postcode_space','Median download speed (Mbit/s)','Average download speed (Mbit/s)','Maximum download speed (Mbit/s)']]\n",
    "filtered_broadband_profiled.to_csv('data/Broadband/Performance/PerformanceFiltered/filtered_broadband_data_sn.csv', index=False)"
   ]
  },
  {
   "cell_type": "code",
   "execution_count": null,
   "metadata": {},
   "outputs": [],
   "source": [
    "broadband_raw = pd.read_csv('data/Broadband/Performance/PerformanceOriginal/202205_fixed_pc_performance_r02_TS.csv')\n",
    "house_pricing = pd.read_csv('data/HousingPrice/HousingPriceCleaned/profiled_data.csv')\n",
    "\n",
    "matching_postcodes = house_pricing['Post Code'].tolist()\n",
    "matches = []\n",
    "for pcode in broadband_raw['postcode_space']:\n",
    "    if(pcode in matching_postcodes):\n",
    "\n",
    "        matches.append(pcode)\n",
    "filtered_broadband = broadband_raw[broadband_raw['postcode_space'].isin(matches)]\n",
    "filtered_broadband_profiled = broadband_raw[['postcode_space','Median download speed (Mbit/s)','Average download speed (Mbit/s)','Maximum download speed (Mbit/s)']]\n",
    "filtered_broadband_profiled.to_csv('data/Broadband/Performance/PerformanceFiltered/filtered_broadband_data_ts.csv', index=False)"
   ]
  },
  {
   "cell_type": "code",
   "execution_count": null,
   "metadata": {},
   "outputs": [],
   "source": [
    "broadband_raw = pd.read_csv('data/Broadband/Performance/PerformanceOriginal/202205_fixed_pc_performance_r02_YO.csv')\n",
    "house_pricing = pd.read_csv('data/HousingPrice/HousingPriceCleaned/profiled_data.csv')\n",
    "\n",
    "matching_postcodes = house_pricing['Post Code'].tolist()\n",
    "matches = []\n",
    "for pcode in broadband_raw['postcode_space']:\n",
    "    if(pcode in matching_postcodes):\n",
    "\n",
    "        matches.append(pcode)\n",
    "filtered_broadband = broadband_raw[broadband_raw['postcode_space'].isin(matches) & broadband_raw['Average download speed (Mbit/s)'] > 0]\n",
    "filtered_broadband_profiled = broadband_raw[['postcode_space','Median download speed (Mbit/s)','Average download speed (Mbit/s)','Maximum download speed (Mbit/s)']]\n",
    "filtered_broadband_profiled.to_csv('data/Broadband/Performance/PerformanceFiltered/filtered_broadband_data_yo.csv', index=False)"
   ]
  },
  {
   "cell_type": "code",
   "execution_count": null,
   "metadata": {},
   "outputs": [],
   "source": [
    "csv_files = glob.glob('data/Broadband/Performance/PerformanceFiltered/*.csv')  \n",
    "dataframes = []\n",
    "for csv_file in csv_files:\n",
    "    df = pd.read_csv(csv_file)\n",
    "    dataframes.append(df)\n",
    "\n",
    "merged_dataframe = pd.concat(dataframes, ignore_index=True)\n",
    "\n",
    "merged_dataframe.to_csv('data/Broadband/BroadbandCleaned/broadband_filtered_performance_all.csv', index=False)"
   ]
  }
 ],
 "metadata": {
  "kernelspec": {
   "display_name": "Python 3",
   "language": "python",
   "name": "python3"
  },
  "language_info": {
   "codemirror_mode": {
    "name": "ipython",
    "version": 3
   },
   "file_extension": ".py",
   "mimetype": "text/x-python",
   "name": "python",
   "nbconvert_exporter": "python",
   "pygments_lexer": "ipython3",
   "version": "3.10.0"
  },
  "orig_nbformat": 4
 },
 "nbformat": 4,
 "nbformat_minor": 2
}
