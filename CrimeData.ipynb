{
 "cells": [
  {
   "cell_type": "code",
   "execution_count": 1,
   "metadata": {},
   "outputs": [],
   "source": [
    "import pandas as pd\n",
    "import glob\n",
    "import os"
   ]
  },
  {
   "cell_type": "code",
   "execution_count": 2,
   "metadata": {},
   "outputs": [],
   "source": [
    "root_directory = 'data/crime'\n",
    "csv_files = glob.glob(os.path.join(root_directory, '**/*.csv'), recursive=True)\n",
    "\n",
    "merged_data = pd.DataFrame()\n",
    "\n",
    "data_frames = [pd.read_csv(csv_file) for csv_file in csv_files]\n",
    "merged_data = pd.concat(data_frames, ignore_index=True)\n",
    "merged_data.to_csv(os.path.join(root_directory, 'crime_merged_data.csv'), index=False)\n"
   ]
  },
  {
   "cell_type": "code",
   "execution_count": 3,
   "metadata": {},
   "outputs": [],
   "source": [
    "merged_data = merged_data[['Month', 'Falls within','Crime type','LSOA code']]\n",
    "merged_data.tail(50)\n",
    "merged_data.to_csv(os.path.join(root_directory, 'crime_merged_data_cleaned.csv'), index=False)\n"
   ]
  },
  {
   "cell_type": "code",
   "execution_count": 4,
   "metadata": {},
   "outputs": [
    {
     "name": "stderr",
     "output_type": "stream",
     "text": [
      "/var/folders/gx/nb4lbx_x39q8jmdpw0hfl6sh0000gn/T/ipykernel_15390/587746894.py:1: DtypeWarning: Columns (3) have mixed types. Specify dtype option on import or set low_memory=False.\n",
      "  len(pd.read_csv('data/crime/crime_merged_data_cleaned.csv'))\n"
     ]
    },
    {
     "data": {
      "text/plain": [
       "4735890"
      ]
     },
     "execution_count": 4,
     "metadata": {},
     "output_type": "execute_result"
    }
   ],
   "source": [
    "len(pd.read_csv('data/crime/crime_merged_data_cleaned.csv'))"
   ]
  }
 ],
 "metadata": {
  "kernelspec": {
   "display_name": "Python 3",
   "language": "python",
   "name": "python3"
  },
  "language_info": {
   "codemirror_mode": {
    "name": "ipython",
    "version": 3
   },
   "file_extension": ".py",
   "mimetype": "text/x-python",
   "name": "python",
   "nbconvert_exporter": "python",
   "pygments_lexer": "ipython3",
   "version": "3.10.0"
  },
  "orig_nbformat": 4
 },
 "nbformat": 4,
 "nbformat_minor": 2
}
